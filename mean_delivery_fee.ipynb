{
 "cells": [
  {
   "cell_type": "code",
   "execution_count": 1,
   "metadata": {},
   "outputs": [],
   "source": [
    "import pandas as pd"
   ]
  },
  {
   "cell_type": "code",
   "execution_count": 2,
   "metadata": {},
   "outputs": [
    {
     "data": {
      "text/html": [
       "<div>\n",
       "<style scoped>\n",
       "    .dataframe tbody tr th:only-of-type {\n",
       "        vertical-align: middle;\n",
       "    }\n",
       "\n",
       "    .dataframe tbody tr th {\n",
       "        vertical-align: top;\n",
       "    }\n",
       "\n",
       "    .dataframe thead th {\n",
       "        text-align: right;\n",
       "    }\n",
       "</style>\n",
       "<table border=\"1\" class=\"dataframe\">\n",
       "  <thead>\n",
       "    <tr style=\"text-align: right;\">\n",
       "      <th></th>\n",
       "      <th>order_id</th>\n",
       "      <th>voucher_amount</th>\n",
       "      <th>date_time</th>\n",
       "      <th>eta_seconds</th>\n",
       "      <th>food_price</th>\n",
       "      <th>cust_id</th>\n",
       "      <th>rating</th>\n",
       "      <th>delivery_fee</th>\n",
       "      <th>resto_id</th>\n",
       "      <th>status</th>\n",
       "      <th>random_id</th>\n",
       "    </tr>\n",
       "  </thead>\n",
       "  <tbody>\n",
       "    <tr>\n",
       "      <th>0</th>\n",
       "      <td>FOOD-10455</td>\n",
       "      <td>0</td>\n",
       "      <td>2018-08-12T20:35:08.001006</td>\n",
       "      <td>1800</td>\n",
       "      <td>18900</td>\n",
       "      <td>1089034</td>\n",
       "      <td>5.0</td>\n",
       "      <td>4000</td>\n",
       "      <td>742638033</td>\n",
       "      <td>Completed</td>\n",
       "      <td>0.511149</td>\n",
       "    </tr>\n",
       "    <tr>\n",
       "      <th>1</th>\n",
       "      <td>FOOD-10985</td>\n",
       "      <td>0</td>\n",
       "      <td>2018-09-23T17:44:12.243273</td>\n",
       "      <td>2173</td>\n",
       "      <td>149000</td>\n",
       "      <td>180146</td>\n",
       "      <td>5.0</td>\n",
       "      <td>11000</td>\n",
       "      <td>742767245</td>\n",
       "      <td>Completed</td>\n",
       "      <td>0.832936</td>\n",
       "    </tr>\n",
       "    <tr>\n",
       "      <th>2</th>\n",
       "      <td>FOOD-10911</td>\n",
       "      <td>0</td>\n",
       "      <td>2018-09-19T18:08:09.387991</td>\n",
       "      <td>1418</td>\n",
       "      <td>43800</td>\n",
       "      <td>366528</td>\n",
       "      <td>NaN</td>\n",
       "      <td>9000</td>\n",
       "      <td>742618303</td>\n",
       "      <td>Completed</td>\n",
       "      <td>0.828026</td>\n",
       "    </tr>\n",
       "    <tr>\n",
       "      <th>3</th>\n",
       "      <td>FOOD-10932</td>\n",
       "      <td>0</td>\n",
       "      <td>2018-09-21T01:24:35.272499</td>\n",
       "      <td>1903</td>\n",
       "      <td>39900</td>\n",
       "      <td>511038</td>\n",
       "      <td>5.0</td>\n",
       "      <td>14000</td>\n",
       "      <td>742541172</td>\n",
       "      <td>Completed</td>\n",
       "      <td>0.239377</td>\n",
       "    </tr>\n",
       "    <tr>\n",
       "      <th>4</th>\n",
       "      <td>FOOD-10961</td>\n",
       "      <td>0</td>\n",
       "      <td>2018-09-22T17:57:45.523161</td>\n",
       "      <td>1716</td>\n",
       "      <td>77700</td>\n",
       "      <td>1220358</td>\n",
       "      <td>NaN</td>\n",
       "      <td>4000</td>\n",
       "      <td>742604875</td>\n",
       "      <td>Completed</td>\n",
       "      <td>0.995587</td>\n",
       "    </tr>\n",
       "  </tbody>\n",
       "</table>\n",
       "</div>"
      ],
      "text/plain": [
       "     order_id  voucher_amount                   date_time  eta_seconds  \\\n",
       "0  FOOD-10455               0  2018-08-12T20:35:08.001006         1800   \n",
       "1  FOOD-10985               0  2018-09-23T17:44:12.243273         2173   \n",
       "2  FOOD-10911               0  2018-09-19T18:08:09.387991         1418   \n",
       "3  FOOD-10932               0  2018-09-21T01:24:35.272499         1903   \n",
       "4  FOOD-10961               0  2018-09-22T17:57:45.523161         1716   \n",
       "\n",
       "   food_price  cust_id  rating  delivery_fee   resto_id     status  random_id  \n",
       "0       18900  1089034     5.0          4000  742638033  Completed   0.511149  \n",
       "1      149000   180146     5.0         11000  742767245  Completed   0.832936  \n",
       "2       43800   366528     NaN          9000  742618303  Completed   0.828026  \n",
       "3       39900   511038     5.0         14000  742541172  Completed   0.239377  \n",
       "4       77700  1220358     NaN          4000  742604875  Completed   0.995587  "
      ]
     },
     "execution_count": 2,
     "metadata": {},
     "output_type": "execute_result"
    }
   ],
   "source": [
    "file = 'https://raw.githubusercontent.com/alamhanz/pandas_journey/main/mydata/food_delivery_datasets.csv' # merujuk link data csv\n",
    "dataset = pd.read_csv(file, sep=',') #membuka data csv\n",
    "dataset.head()"
   ]
  },
  {
   "cell_type": "code",
   "execution_count": 8,
   "metadata": {},
   "outputs": [
    {
     "data": {
      "text/plain": [
       "0     4000\n",
       "1    11000\n",
       "2     9000\n",
       "3    14000\n",
       "4     4000\n",
       "Name: delivery_fee, dtype: int64"
      ]
     },
     "execution_count": 8,
     "metadata": {},
     "output_type": "execute_result"
    }
   ],
   "source": [
    "data=dataset['delivery_fee'] #menampilkan kolom delivery fee\n",
    "data.head()"
   ]
  },
  {
   "cell_type": "code",
   "execution_count": 10,
   "metadata": {},
   "outputs": [
    {
     "data": {
      "text/plain": [
       "9252.788104089219"
      ]
     },
     "execution_count": 10,
     "metadata": {},
     "output_type": "execute_result"
    }
   ],
   "source": [
    "data.mean()#mencari rata rata delivery fee"
   ]
  },
  {
   "cell_type": "code",
   "execution_count": 11,
   "metadata": {},
   "outputs": [
    {
     "data": {
      "text/plain": [
       "44000"
      ]
     },
     "execution_count": 11,
     "metadata": {},
     "output_type": "execute_result"
    }
   ],
   "source": [
    "data.max()#mencari delivery fee yang paling mahal"
   ]
  },
  {
   "cell_type": "code",
   "execution_count": 12,
   "metadata": {},
   "outputs": [
    {
     "data": {
      "text/plain": [
       "0"
      ]
     },
     "execution_count": 12,
     "metadata": {},
     "output_type": "execute_result"
    }
   ],
   "source": [
    "data.min() #mencari delivery fee yang paling murah"
   ]
  },
  {
   "cell_type": "code",
   "execution_count": null,
   "metadata": {},
   "outputs": [],
   "source": []
  }
 ],
 "metadata": {
  "kernelspec": {
   "display_name": "Python 3",
   "language": "python",
   "name": "python3"
  },
  "language_info": {
   "codemirror_mode": {
    "name": "ipython",
    "version": 3
   },
   "file_extension": ".py",
   "mimetype": "text/x-python",
   "name": "python",
   "nbconvert_exporter": "python",
   "pygments_lexer": "ipython3",
   "version": "3.8.3"
  }
 },
 "nbformat": 4,
 "nbformat_minor": 4
}
